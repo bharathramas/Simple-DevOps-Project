{
  "nbformat": 4,
  "nbformat_minor": 0,
  "metadata": {
    "colab": {
      "provenance": [],
      "authorship_tag": "ABX9TyObDgkxKHFMqAK+oekxpy0y",
      "include_colab_link": true
    },
    "kernelspec": {
      "name": "python3",
      "display_name": "Python 3"
    },
    "language_info": {
      "name": "python"
    }
  },
  "cells": [
    {
      "cell_type": "markdown",
      "metadata": {
        "id": "view-in-github",
        "colab_type": "text"
      },
      "source": [
        "<a href=\"https://colab.research.google.com/github/bharathramas/Simple-DevOps-Project/blob/master/myFirstml001.ipynb\" target=\"_parent\"><img src=\"https://colab.research.google.com/assets/colab-badge.svg\" alt=\"Open In Colab\"/></a>"
      ]
    },
    {
      "cell_type": "code",
      "execution_count": 15,
      "metadata": {
        "colab": {
          "base_uri": "https://localhost:8080/"
        },
        "id": "z4SKLwXMLSyR",
        "outputId": "1a5e90e2-23f1-400c-9740-0dc98672491a"
      },
      "outputs": [
        {
          "output_type": "stream",
          "name": "stdout",
          "text": [
            "['Rooms', 'Bathroom', 'Landsize', 'Lattitude', 'Longtitude']\n",
            "Making predictions for the following 5 houses:\n",
            "   Rooms  Bathroom  Landsize  Lattitude  Longtitude\n",
            "1      2       1.0     156.0   -37.8079    144.9934\n",
            "2      3       2.0     134.0   -37.8093    144.9944\n",
            "4      4       1.0     120.0   -37.8072    144.9941\n",
            "6      3       2.0     245.0   -37.8024    144.9993\n",
            "7      2       1.0     256.0   -37.8060    144.9954\n",
            "The predictions are\n",
            "[1035000. 1465000. 1600000. 1876000. 1636000.]\n"
          ]
        }
      ],
      "source": [
        "import pandas as pd\n",
        "\n",
        "melb_data = pd.read_csv(\"/content/sample_data/melb_data.csv\")\n",
        "melb_data.describe()\n",
        "melb_data.head()\n",
        "melb_data.columns\n",
        "\n",
        "melb_data = melb_data.dropna()\n",
        "melb_data.describe()\n",
        "\n",
        "y = melb_data.Price\n",
        "melbourne_features = ['Rooms', 'Bathroom', 'Landsize', 'Lattitude', 'Longtitude']\n",
        "print(melbourne_features)\n",
        "\n",
        "X = melb_data[melbourne_features]\n",
        "X.describe()\n",
        "X.head()\n",
        "\n",
        "from sklearn.tree import DecisionTreeRegressor\n",
        "\n",
        "melb_model = DecisionTreeRegressor(random_state = 1)\n",
        "melb_model.fit(X,y)\n",
        "\n",
        "print(\"Making predictions for the following 5 houses:\")\n",
        "print(X.head())\n",
        "print(\"The predictions are\")\n",
        "print(melb_model.predict(X.head()))"
      ]
    },
    {
      "source": [
        "# @title Rooms\n",
        "\n",
        "from matplotlib import pyplot as plt\n",
        "X['Rooms'].plot(kind='hist', bins=20, title='Rooms')\n",
        "plt.gca().spines[['top', 'right',]].set_visible(False)"
      ],
      "cell_type": "code",
      "execution_count": null,
      "outputs": [],
      "metadata": {
        "cellView": "form",
        "id": "7Jx8UB3XPrD7"
      }
    },
    {
      "cell_type": "code",
      "source": [],
      "metadata": {
        "id": "UsKA2Iw_Pjjk"
      },
      "execution_count": null,
      "outputs": []
    }
  ]
}